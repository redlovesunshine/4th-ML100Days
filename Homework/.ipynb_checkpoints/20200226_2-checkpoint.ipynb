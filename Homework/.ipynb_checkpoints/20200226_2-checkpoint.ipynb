{
 "cells": [
  {
   "cell_type": "markdown",
   "metadata": {},
   "source": [
    "Q1: 專案的目標？ (要解決什麼問題）\n",
    "\n",
    "A1: 人工智慧預測癲癇症發作，可提前 1 小時預警\n",
    "\n",
    "Q2: 使用的技術是？ (只需知道名稱即可，例如：使用 CNN 卷積神經網路做影像分類)\n",
    "\n",
    "7 月在《IEEE》發表的研究論文，是美國路易斯安那州立大學的研究團隊成功研發可提前 1 小時預測癲癇症發作的人工智慧模型，且成功預測率高達 99.6%。研究人員表示，全球癲癇患者有 5,000 萬，七成患者能以藥物控制。\n",
    "\n",
    "問題是癲癇症發作前甚少症狀，透過人工智慧預測癲癇症何時發作，就能讓患者有足夠時間應付，大大改善生活品質。透過腦波圖測試分析大腦活動，開發預測模型，過往也有類似研究，不過大腦活動模式不同讓難度大增，所以需要研究人工分析。這次研究團隊將大腦特徵結合分類過程，交由自動化系統處理，效率和精準度都大大提高。\n",
    "\n",
    "研究團隊引進深度學習演算法，收集不同電極點記錄的大腦活動特徵，提升預測的準確性。團隊測試 22 位癲癇症患者，發現預測模型準確度達 99.6%，誤報率僅每小時 0.004 次，更表示將研發可放在智慧手錶內的晶片，還有內建於頭盔的感應器，希望幫助癲癇症患者過著正常生活。\n",
    "\n",
    "Q3: 資料來源？\n",
    "來自 https://thenextweb.com/ 此網站的，此篇文章 https://thenextweb.com/artificial-intelligence/2019/11/19/this-ai-system-predicts-seizures-an-hour-before-they-happen-with-99-6-accuracy/\n"
   ]
  }
 ],
 "metadata": {
  "kernelspec": {
   "display_name": "Python 3",
   "language": "python",
   "name": "python3"
  },
  "language_info": {
   "codemirror_mode": {
    "name": "ipython",
    "version": 3
   },
   "file_extension": ".py",
   "mimetype": "text/x-python",
   "name": "python",
   "nbconvert_exporter": "python",
   "pygments_lexer": "ipython3",
   "version": "3.6.3"
  }
 },
 "nbformat": 4,
 "nbformat_minor": 2
}
