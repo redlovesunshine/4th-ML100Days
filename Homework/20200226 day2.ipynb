{
 "cells": [
  {
   "cell_type": "markdown",
   "metadata": {},
   "source": [
    "Q: 請找出一個你認為機器學習可以發光發熱的領域並闡述原因?\n",
    "\n",
    "A: 因為現在科技的進步，我們在蒐集數據的方式變得更方便，因此隨著數據量飛快地增長，我們已經沒辦法再這樣一筆一筆人工篩選分類，那麼使用機器學系便可快速篩選，也能使準確率提升許多，未來公司不需再聘用從事重複工作的人力，更能將經費、時間及人力投注在拓展客戶源上，許多企業會願意花費許多精力再機器學習領域上做更深的研究與探討，因此我認為這也是機器學習可以發光發熱的原因之一。"
   ]
  }
 ],
 "metadata": {
  "kernelspec": {
   "display_name": "Python 3",
   "language": "python",
   "name": "python3"
  },
  "language_info": {
   "codemirror_mode": {
    "name": "ipython",
    "version": 3
   },
   "file_extension": ".py",
   "mimetype": "text/x-python",
   "name": "python",
   "nbconvert_exporter": "python",
   "pygments_lexer": "ipython3",
   "version": "3.6.3"
  }
 },
 "nbformat": 4,
 "nbformat_minor": 2
}
